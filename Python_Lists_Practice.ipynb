{
  "nbformat": 4,
  "nbformat_minor": 0,
  "metadata": {
    "colab": {
      "provenance": [],
      "authorship_tag": "ABX9TyP68KDDNcMj6H1PBHe5NANY",
      "include_colab_link": true
    },
    "kernelspec": {
      "name": "python3",
      "display_name": "Python 3"
    },
    "language_info": {
      "name": "python"
    }
  },
  "cells": [
    {
      "cell_type": "markdown",
      "metadata": {
        "id": "view-in-github",
        "colab_type": "text"
      },
      "source": [
        "<a href=\"https://colab.research.google.com/github/satyazprakash/skills-introduction-to-github/blob/main/Python_Lists_Practice.ipynb\" target=\"_parent\"><img src=\"https://colab.research.google.com/assets/colab-badge.svg\" alt=\"Open In Colab\"/></a>"
      ]
    },
    {
      "cell_type": "code",
      "execution_count": null,
      "metadata": {
        "id": "qqipA-WE66LY"
      },
      "outputs": [],
      "source": []
    },
    {
      "cell_type": "markdown",
      "source": [
        "# Python Lists,  Lists are created using square brackets [ ]\n",
        "\n",
        "##Lists are used to store multiple items in a single variable.\n",
        "\n",
        "###Lists are one of 4 built-in data types in Python used to store collections of data, the other 3 are Tuple, Set, and Dictionary, all with different qualities and usage."
      ],
      "metadata": {
        "id": "V0NLr-Hy7Duu"
      }
    },
    {
      "cell_type": "code",
      "source": [
        "# Example, Create a List:\n",
        "\n",
        "thislist = [\"apple\",\"banana\",\"cherry\"]\n",
        "\n",
        "print(thislist)\n",
        "\n",
        "\n",
        "fruits = (\"apple\", \"banana\", \"cherry\")\n",
        "\n",
        "(green, yellow, red) = fruits\n",
        "\n",
        "print(green)\n",
        "print(yellow)\n",
        "print(red)\n",
        "\n"
      ],
      "metadata": {
        "colab": {
          "base_uri": "https://localhost:8080/"
        },
        "id": "v3bj1_Tk7euX",
        "outputId": "f8185e2d-ca5e-4387-c81b-b100d381fc46"
      },
      "execution_count": null,
      "outputs": [
        {
          "output_type": "stream",
          "name": "stdout",
          "text": [
            "['apple', 'banana', 'cherry']\n"
          ]
        }
      ]
    },
    {
      "cell_type": "markdown",
      "source": [
        "## List items are ordered, changeable, and allow duplicate values.\n",
        "\n",
        "### List items are indexed, the first item has index [0], the second item has index [1] etc.\n",
        "\n",
        "##Ordered : When we say that lists are ordered, it means that the items have a defined order, and that order will not change.\n",
        "\n",
        "### If you add new items to a list, the new items will be placed at the end of the list.\n",
        "\n",
        "### **Note:** There are some list methods that will change the order, but in general: the order of the items will not change."
      ],
      "metadata": {
        "id": "vR2TmyVl74zR"
      }
    },
    {
      "cell_type": "markdown",
      "source": [
        "## Changeable\n",
        "###The list is changeable, meaning that we can change, add, and remove items in a list after it has been created.\n",
        "\n",
        "## Allow Duplicates\n",
        "###Since lists are indexed, lists can have items with the same value:"
      ],
      "metadata": {
        "id": "kzuoNTxt8oTr"
      }
    },
    {
      "cell_type": "code",
      "source": [
        "# Example: Lists allow duplicate values:\n",
        "\n",
        "thislist= ['apple','banana','orange','apple','chiku']\n",
        "print(thislist)"
      ],
      "metadata": {
        "colab": {
          "base_uri": "https://localhost:8080/"
        },
        "id": "W43FLbY_83Kn",
        "outputId": "62dfd83f-4ef2-481f-e11a-1cfe957bd90c"
      },
      "execution_count": null,
      "outputs": [
        {
          "output_type": "stream",
          "name": "stdout",
          "text": [
            "['apple', 'banana', 'orange', 'apple', 'chiku']\n"
          ]
        }
      ]
    },
    {
      "cell_type": "code",
      "source": [
        "# List Length\n",
        "## To determine how many items a list has, use the len() function:\n",
        "\n",
        "thislist = ['satya','prakash','apple','orange','chiku']\n",
        "\n",
        "print(len(thislist))\n"
      ],
      "metadata": {
        "colab": {
          "base_uri": "https://localhost:8080/"
        },
        "id": "qgksBW2u9WqS",
        "outputId": "e57b5440-c5df-4ba6-b266-2d1039dfbf7f"
      },
      "execution_count": null,
      "outputs": [
        {
          "output_type": "stream",
          "name": "stdout",
          "text": [
            "5\n"
          ]
        }
      ]
    },
    {
      "cell_type": "code",
      "source": [
        "\n",
        "# x = thisdict.keys()\n",
        "\n",
        "\n",
        "print (\"Hello World\")"
      ],
      "metadata": {
        "colab": {
          "base_uri": "https://localhost:8080/"
        },
        "id": "1OSzA5Ha0vXI",
        "outputId": "d107f5e3-240f-452f-89e6-cb546d92c3b6"
      },
      "execution_count": null,
      "outputs": [
        {
          "output_type": "stream",
          "name": "stdout",
          "text": [
            "Hello World\n"
          ]
        }
      ]
    },
    {
      "cell_type": "code",
      "source": [
        "# List Items - Data Types\n",
        "# List items can be of any data type:\n",
        "\n",
        "list1 = [\"apple\",\"banana\",\"cherry\"]\n",
        "list2 = [1,5,7,9,3]\n",
        "list3 = [True, False, False]\n",
        "\n",
        "list1 = [\"abc\", 34, True, 40, \"male\"]\n",
        "list4 = [\"abc\",34,True,40,\"male\"]\n",
        "\n",
        "print(list1)\n",
        "print(list2)\n",
        "print(list2)\n",
        "print(list4)\n",
        "\n",
        "print(type(list4))\n"
      ],
      "metadata": {
        "colab": {
          "base_uri": "https://localhost:8080/"
        },
        "id": "uMjtxWsBvKCn",
        "outputId": "65ea4827-2520-4245-db0d-afca8aa9754b"
      },
      "execution_count": null,
      "outputs": [
        {
          "output_type": "stream",
          "name": "stdout",
          "text": [
            "['abc', 34, True, 40, 'male']\n",
            "[1, 5, 7, 9, 3]\n",
            "[1, 5, 7, 9, 3]\n",
            "['abc', 34, True, 40, 'male']\n",
            "<class 'list'>\n"
          ]
        }
      ]
    },
    {
      "cell_type": "markdown",
      "source": [
        "#The list() Constructor\n",
        "##It is also possible to use the list() constructor when creating a new list."
      ],
      "metadata": {
        "id": "Y7xsPkBwwBGW"
      }
    },
    {
      "cell_type": "code",
      "source": [
        "thislist = list((\"apple\",\"banana\",\"cherry\")) ## NOte the double round Brackets,\n",
        "print(thislist)\n"
      ],
      "metadata": {
        "colab": {
          "base_uri": "https://localhost:8080/"
        },
        "id": "KD8BCDfEwFYk",
        "outputId": "17af6227-4302-4f1c-aeac-5de9dac5bf2c"
      },
      "execution_count": null,
      "outputs": [
        {
          "output_type": "stream",
          "name": "stdout",
          "text": [
            "['apple', 'banana', 'cherry']\n"
          ]
        }
      ]
    },
    {
      "cell_type": "markdown",
      "source": [
        "# Python - Access List Items\n",
        "## Access Items\n",
        "##List items are indexed and you can access them by referring to the index number:"
      ],
      "metadata": {
        "id": "Q6SApHMYwq9j"
      }
    },
    {
      "cell_type": "code",
      "source": [
        "thislist = [\"apple\",\"banana\",\"cherry\"]\n",
        "print(thislist[1], thislist[2], thislist[0])\n"
      ],
      "metadata": {
        "colab": {
          "base_uri": "https://localhost:8080/"
        },
        "id": "L8ZQIvfNwxIg",
        "outputId": "8e5baabb-280d-44cb-a026-bb89c17084d7"
      },
      "execution_count": null,
      "outputs": [
        {
          "output_type": "stream",
          "name": "stdout",
          "text": [
            "banana cherry apple\n"
          ]
        }
      ]
    },
    {
      "cell_type": "markdown",
      "source": [
        "# Negative Indexing\n",
        "##Negative indexing means start from the end\n",
        "\n",
        "## -1 refers to the last item, -2 refers to the second last item etc."
      ],
      "metadata": {
        "id": "fEa2fyZgytYv"
      }
    },
    {
      "cell_type": "code",
      "source": [
        "thislist = [\"apple\", \"banana\", \"cherry\", \"orange\", \"kiwi\", \"melon\", \"mango\"]\n",
        "print(thislist[:])\n",
        "print(thislist[:-1])\n",
        "print(thislist[-1])\n",
        "print(thislist[2:5]) # Note: The search will start at index 2 (included) and end at index 5 (not included).\n",
        "print(thislist[0]) # Remember that the first item has index 0.\n",
        "print(thislist[:4]) # This example returns the items from the beginning to, but NOT including, \"kiwi\":\n",
        "print(thislist[2:])  # By leaving out the end value, the range will go on to the end of the list:\n",
        "\n",
        "\n",
        "# Range of Negative Indexes\n",
        "# Specify negative indexes if you want to start the search from the end of the list:\n",
        "\n",
        "print(thislist[-4:-1])\n",
        "print(thislist[-4:-1]) # This example returns the items from \"orange\" (-4) to, but NOT including \"mango\" (-1):\n",
        "\n"
      ],
      "metadata": {
        "colab": {
          "base_uri": "https://localhost:8080/"
        },
        "id": "hzwKKr-gyxMQ",
        "outputId": "1e6624e5-39a2-44de-da09-012fc79a68d6"
      },
      "execution_count": null,
      "outputs": [
        {
          "output_type": "stream",
          "name": "stdout",
          "text": [
            "['apple', 'banana', 'cherry', 'orange', 'kiwi', 'melon', 'mango']\n",
            "['apple', 'banana', 'cherry', 'orange', 'kiwi', 'melon']\n",
            "mango\n",
            "['cherry', 'orange', 'kiwi']\n",
            "apple\n",
            "['apple', 'banana', 'cherry', 'orange']\n",
            "['cherry', 'orange', 'kiwi', 'melon', 'mango']\n",
            "['orange', 'kiwi', 'melon']\n",
            "['orange', 'kiwi', 'melon']\n"
          ]
        }
      ]
    },
    {
      "cell_type": "markdown",
      "source": [
        "# Check if Item Exists\n",
        "##To determine if a specified item is present in a list use the in keyword:"
      ],
      "metadata": {
        "id": "OlzFT0dH0ub2"
      }
    },
    {
      "cell_type": "code",
      "source": [
        "# Check if \"apple\" is present in the list:\n",
        "\n",
        "thislist = [\"apple\", \"banana\", \"cherry\"]\n",
        "\n",
        "\n",
        "if \"apple\" in thislist:\n",
        "  print(\"Yes, apple is in the fruits list \")\n",
        "else:\n",
        "  print(\"apple is not in the fruits list \")\n",
        "\n"
      ],
      "metadata": {
        "colab": {
          "base_uri": "https://localhost:8080/"
        },
        "id": "pyKTXOzE0oj4",
        "outputId": "f654bdef-b8a0-4dad-d413-60f4d8f7814f"
      },
      "execution_count": null,
      "outputs": [
        {
          "output_type": "stream",
          "name": "stdout",
          "text": [
            "Yes, apple is in the fruits list \n"
          ]
        }
      ]
    },
    {
      "cell_type": "markdown",
      "source": [
        "# Python - Change List Items\n",
        "### Change Item Value\n",
        "### To change the value of a specific item, refer to the index number:"
      ],
      "metadata": {
        "id": "C1tU0n8R2tsx"
      }
    },
    {
      "cell_type": "code",
      "source": [
        "listfruits = [\"apple\",\"banana\",\"cherry\"]\n",
        "\n",
        "print(f\"Original value of list second item : {listfruits[1]} before change\")\n",
        "\n",
        "listfruits[1] = \"orange\"\n",
        "\n",
        "print(f\"MOdified value of list second item post change : {listfruits[1]} after change\")"
      ],
      "metadata": {
        "colab": {
          "base_uri": "https://localhost:8080/"
        },
        "id": "SaUJ6bwt3FFo",
        "outputId": "c9f69204-ddfe-43ba-a21d-78c86781bf63"
      },
      "execution_count": null,
      "outputs": [
        {
          "output_type": "stream",
          "name": "stdout",
          "text": [
            "Original value of list second item : banana before change\n",
            "MOdified value of list second item post change : orange after change\n"
          ]
        }
      ]
    },
    {
      "cell_type": "markdown",
      "source": [
        "## Change a Range of Item Values\n",
        "## To change the value of items within a specific range, define a list with the new values, and refer to the range of index numbers where you want to insert the new values:"
      ],
      "metadata": {
        "id": "zg8oMPnO4lJw"
      }
    },
    {
      "cell_type": "code",
      "source": [
        "# Change the values \"banana\" and \"cherry\" with the values \"blackcurrant\" and \"watermelon\":\n",
        "\n",
        "thislist = [\"apple\",\"banana\",\"cherry\",\"orange\",\"kiwi\",\"mango\"]\n",
        "print(thislist)\n",
        "thislist[1:3] = [\"blackcurrant\",\"watermelon\"]\n",
        "print(thislist)\n",
        "\n",
        "# If you insert more items than you replace, the new items will be inserted where you specified, and the remaining items will move accordingly:\n",
        "\n",
        "thislist[1:3] = [\"papaya\",\"jackfruit\",\"chiku\"]\n",
        "print(thislist)\n",
        "\n",
        "\n",
        "# Change the second value by replacing it with two new values:\n",
        "thislist[1:2] = [\"blackcurrant\", \"watermelon\"]\n",
        "print(thislist)\n",
        "\n",
        "\n",
        "# If you insert less items than you replace, the new items will be inserted where you specified, and the remaining items will move accordingly:\n",
        "thislist[1:3] = [\"watermelon\"]\n",
        "print(thislist)\n",
        "\n",
        "\n"
      ],
      "metadata": {
        "colab": {
          "base_uri": "https://localhost:8080/"
        },
        "id": "6QaKm-LQ4uqA",
        "outputId": "b846c093-a811-4608-8d6b-94a262c99efd"
      },
      "execution_count": null,
      "outputs": [
        {
          "output_type": "stream",
          "name": "stdout",
          "text": [
            "['apple', 'banana', 'cherry', 'orange', 'kiwi', 'mango']\n",
            "['apple', 'blackcurrant', 'watermelon', 'orange', 'kiwi', 'mango']\n",
            "['apple', 'papaya', 'jackfruit', 'chiku', 'orange', 'kiwi', 'mango']\n",
            "['apple', 'blackcurrant', 'watermelon', 'jackfruit', 'chiku', 'orange', 'kiwi', 'mango']\n"
          ]
        }
      ]
    },
    {
      "cell_type": "markdown",
      "source": [
        "## Insert Items\n",
        "To insert a new list item, without replacing any of the existing values, we can use the insert() method.\n",
        "\n",
        "The insert() method inserts an item at the specified index:"
      ],
      "metadata": {
        "id": "DsAnlsXV9Ev5"
      }
    },
    {
      "cell_type": "code",
      "source": [
        "# Insert \"watermelon\" as the third item:\n",
        "thislist = [\"apple\", \"banana\", \"cherry\"]\n",
        "print(thislist)\n",
        "thislist.insert(2, \"watermelon\") # Inserting watermelon on the second place in the list\n",
        "\n",
        "print(thislist)\n"
      ],
      "metadata": {
        "colab": {
          "base_uri": "https://localhost:8080/"
        },
        "id": "wgugclvb9MdJ",
        "outputId": "12870933-1a96-4396-d788-e96c759f2d1d"
      },
      "execution_count": null,
      "outputs": [
        {
          "output_type": "stream",
          "name": "stdout",
          "text": [
            "['apple', 'banana', 'watermelon', 'cherry']\n",
            "['apple', 'banana', 'cherry']\n",
            "['apple', 'banana', 'watermelon', 'cherry']\n"
          ]
        }
      ]
    },
    {
      "cell_type": "markdown",
      "source": [
        "## Python - Add List Items\n",
        "###Append Items\n",
        "###To add an item to the end of the list, use the append() method:"
      ],
      "metadata": {
        "id": "qVDGSDfs_Ezq"
      }
    },
    {
      "cell_type": "code",
      "source": [
        "thislist = [\"apple\",\"banana\",\"cherry\"]\n",
        "print(thislist)\n",
        "\n",
        "thislist.append(\"orange\") # To add an item to the end of the list, use the append() method:\n",
        "print(thislist)\n",
        "\n",
        "thislist.append(\"orange\") # To add an item to the end of the list, use the append() method:\n",
        "print(thislist)\n",
        "\n",
        "thislist1 = [\"apple\", \"banana\", \"cherry\"]\n",
        "thislist1.insert(1, \"satya\")    # The insert() method inserts an item at the specified index:\n",
        "print(thislist1)"
      ],
      "metadata": {
        "colab": {
          "base_uri": "https://localhost:8080/"
        },
        "id": "1-nGnY2Y_M2C",
        "outputId": "bd3f8d35-4b35-4556-9ab2-9e20cf94bb0b"
      },
      "execution_count": null,
      "outputs": [
        {
          "output_type": "stream",
          "name": "stdout",
          "text": [
            "['apple', 'banana', 'cherry']\n",
            "['apple', 'banana', 'cherry', 'orange']\n",
            "['apple', 'banana', 'cherry', 'orange', 'orange']\n",
            "['apple', 'satya', 'banana', 'cherry']\n"
          ]
        }
      ]
    },
    {
      "cell_type": "markdown",
      "source": [
        "## Extend List\n",
        "###To append elements from another list to the current list, use the extend() method."
      ],
      "metadata": {
        "id": "KRy8_gf_AeaE"
      }
    },
    {
      "cell_type": "code",
      "source": [
        "# Add the elements of tropical to thislist:, The elements will be added to the end of the list.\n",
        "\n",
        "thislist = [\"apple\",\"banana\",\"cherry\"]\n",
        "tropical = [\"mango\",\"pineapple\",\"papaya\"]\n",
        "print(thislist)\n",
        "thislist.extend(tropical)\n",
        "print(thislist)\n",
        "thislist.insert(1,tropical)\n",
        "print(thislist)"
      ],
      "metadata": {
        "colab": {
          "base_uri": "https://localhost:8080/"
        },
        "id": "8mU-jSQGAkyy",
        "outputId": "d0875f6e-9f75-4a02-bf30-a5266f7b2444"
      },
      "execution_count": null,
      "outputs": [
        {
          "output_type": "stream",
          "name": "stdout",
          "text": [
            "['apple', 'banana', 'cherry']\n",
            "['apple', 'banana', 'cherry', 'mango', 'pineapple', 'papaya']\n",
            "['apple', ['mango', 'pineapple', 'papaya'], 'banana', 'cherry', 'mango', 'pineapple', 'papaya']\n"
          ]
        }
      ]
    },
    {
      "cell_type": "markdown",
      "source": [
        "## Add Any Iterable\n",
        "###The extend() method does not have to append lists, you can add any iterable object (tuples, sets, dictionaries etc.)."
      ],
      "metadata": {
        "id": "crNBf9j1Ehia"
      }
    },
    {
      "cell_type": "code",
      "source": [
        "# Add elements of a tuple to a list:\n",
        "\n",
        "thislist = [\"apple\",\"banana\",\"cherry\"]\n",
        "thistuple = (\"kiwi\", \"orange\")\n",
        "thislist.extend(thistuple)\n",
        "print(thislist)"
      ],
      "metadata": {
        "colab": {
          "base_uri": "https://localhost:8080/"
        },
        "id": "f4ruh1k-EmS1",
        "outputId": "98c60fa9-921c-4d83-ba68-1e441f8ec1f6"
      },
      "execution_count": null,
      "outputs": [
        {
          "output_type": "stream",
          "name": "stdout",
          "text": [
            "['apple', 'banana', 'cherry', 'kiwi', 'orange']\n"
          ]
        }
      ]
    },
    {
      "cell_type": "markdown",
      "source": [
        "## Python - Remove List Items\n",
        "### Remove Specified Item\n",
        "###The remove() method removes the specified item."
      ],
      "metadata": {
        "id": "CkKy30vRFGmV"
      }
    },
    {
      "cell_type": "code",
      "source": [
        "# Remove \"banana\":\n",
        "\n",
        "thislist = [\"apple\",\"banana\",\"cherry\"]\n",
        "print(thislist)\n",
        "thislist.remove(\"banana\")\n",
        "print(thislist)\n",
        "\n",
        "# If there are more than one item with the specified value, the remove() method removes the first occurrence:\n",
        "thislist = [\"apple\", \"banana\", \"cherry\", \"banana\", \"kiwi\"]\n",
        "thislist.remove(\"banana\")\n",
        "print(thislist)\n"
      ],
      "metadata": {
        "colab": {
          "base_uri": "https://localhost:8080/"
        },
        "id": "02S2tp4oFOWQ",
        "outputId": "1baeb07e-4dbe-4469-f1b1-4abf17c23b7c"
      },
      "execution_count": null,
      "outputs": [
        {
          "output_type": "stream",
          "name": "stdout",
          "text": [
            "['apple', 'banana', 'cherry']\n",
            "['apple', 'cherry']\n",
            "['apple', 'cherry', 'banana', 'kiwi']\n"
          ]
        }
      ]
    },
    {
      "cell_type": "markdown",
      "source": [
        "### Remove Specified Index\n",
        "### The pop() method removes the specified index."
      ],
      "metadata": {
        "id": "J0DgZiBIIDtP"
      }
    },
    {
      "cell_type": "code",
      "source": [
        "# Remove the second item:\n",
        "\n",
        "thislist = [\"apple\",\"banana\",\"cherry\"]\n",
        "print(thislist)\n",
        "thislist.pop(1)\n",
        "print(thislist)\n",
        "\n",
        "# If you do not specify the index, the pop() method removes the last item.\n",
        "\n",
        "thislist.pop()\n",
        "print(thislist)\n",
        "\n",
        "# The del keyword also removes the specified index:\n",
        "# Remove the first item:\n",
        "thislist = [\"apple\",\"banana\",\"cherry\"]\n",
        "del thislist[0]\n",
        "print(thislist)\n",
        "\n",
        "\n",
        "# The del keyword can also delete the list completely.\n",
        "thislist = [\"apple\",\"banana\",\"cherry\"]\n",
        "del thislist\n",
        "print(thislist)\n",
        "\n"
      ],
      "metadata": {
        "colab": {
          "base_uri": "https://localhost:8080/",
          "height": 273
        },
        "id": "G7dzE3tfIJ-b",
        "outputId": "8bbdb00d-4527-4a35-b146-ce0aeb44e51a"
      },
      "execution_count": null,
      "outputs": [
        {
          "output_type": "stream",
          "name": "stdout",
          "text": [
            "['apple', 'banana', 'cherry']\n",
            "['apple', 'cherry']\n",
            "['apple']\n",
            "['banana', 'cherry']\n"
          ]
        },
        {
          "output_type": "error",
          "ename": "NameError",
          "evalue": "name 'thislist' is not defined",
          "traceback": [
            "\u001b[0;31m---------------------------------------------------------------------------\u001b[0m",
            "\u001b[0;31mNameError\u001b[0m                                 Traceback (most recent call last)",
            "\u001b[0;32m/tmp/ipython-input-3795200865.py\u001b[0m in \u001b[0;36m<cell line: 0>\u001b[0;34m()\u001b[0m\n\u001b[1;32m     21\u001b[0m \u001b[0mthislist\u001b[0m \u001b[0;34m=\u001b[0m \u001b[0;34m[\u001b[0m\u001b[0;34m\"apple\"\u001b[0m\u001b[0;34m,\u001b[0m\u001b[0;34m\"banana\"\u001b[0m\u001b[0;34m,\u001b[0m\u001b[0;34m\"cherry\"\u001b[0m\u001b[0;34m]\u001b[0m\u001b[0;34m\u001b[0m\u001b[0;34m\u001b[0m\u001b[0m\n\u001b[1;32m     22\u001b[0m \u001b[0;32mdel\u001b[0m \u001b[0mthislist\u001b[0m\u001b[0;34m\u001b[0m\u001b[0;34m\u001b[0m\u001b[0m\n\u001b[0;32m---> 23\u001b[0;31m \u001b[0mprint\u001b[0m\u001b[0;34m(\u001b[0m\u001b[0mthislist\u001b[0m\u001b[0;34m)\u001b[0m\u001b[0;34m\u001b[0m\u001b[0;34m\u001b[0m\u001b[0m\n\u001b[0m\u001b[1;32m     24\u001b[0m \u001b[0;34m\u001b[0m\u001b[0m\n",
            "\u001b[0;31mNameError\u001b[0m: name 'thislist' is not defined"
          ]
        }
      ]
    },
    {
      "cell_type": "markdown",
      "source": [
        "## Clear the List\n",
        "##The clear() method empties the list.\n",
        "\n",
        "## The list still remains, but it has no content.\n",
        "\n"
      ],
      "metadata": {
        "id": "oldcVRasJR4G"
      }
    },
    {
      "cell_type": "code",
      "source": [
        "# Clear the list content:\n",
        "\n",
        "thislist = [\"apple\", \"banana\", \"cherry\"]\n",
        "thislist.clear()\n",
        "print(thislist)"
      ],
      "metadata": {
        "colab": {
          "base_uri": "https://localhost:8080/"
        },
        "id": "WoOC75sDJV1t",
        "outputId": "3afa3bc9-b20e-4c8a-da1a-1f727b3e898b"
      },
      "execution_count": null,
      "outputs": [
        {
          "output_type": "stream",
          "name": "stdout",
          "text": [
            "[]\n"
          ]
        }
      ]
    },
    {
      "cell_type": "markdown",
      "source": [
        "## Python - Loop Lists\n",
        "### Loop Through a List\n",
        "### You can loop through the list items by using a for loop:\n"
      ],
      "metadata": {
        "id": "NJND69h4Wmtn"
      }
    },
    {
      "cell_type": "code",
      "source": [
        "# Print all items in the list, one by one:\n",
        "\n",
        "thislist = [\"apple\", \"banana\", \"cherry\"]\n",
        "for x in thislist:\n",
        "  print(f\"The elements of the list is : {x}\")"
      ],
      "metadata": {
        "colab": {
          "base_uri": "https://localhost:8080/"
        },
        "id": "KdCWoRWVW4Gt",
        "outputId": "d5e54d69-9869-47f4-a817-7df556b247f1"
      },
      "execution_count": null,
      "outputs": [
        {
          "output_type": "stream",
          "name": "stdout",
          "text": [
            "The elements of the list is : apple\n",
            "The elements of the list is : banana\n",
            "The elements of the list is : cherry\n"
          ]
        }
      ]
    },
    {
      "cell_type": "markdown",
      "source": [
        "## Loop Through the Index Numbers\n",
        "###You can also loop through the list items by referring to their index number.\n",
        "\n",
        "###Use the range() and len() functions to create a suitable iterable."
      ],
      "metadata": {
        "id": "JMagp0a4apkZ"
      }
    },
    {
      "cell_type": "code",
      "source": [
        "# Example Print all items by referring to their index number:\n",
        "\n",
        "thislist = [\"apple\", \"banana\", \"cherry\"]\n",
        "for i in range(len(thislist)):\n",
        "    print(thislist[i])\n",
        "\n"
      ],
      "metadata": {
        "colab": {
          "base_uri": "https://localhost:8080/"
        },
        "id": "iAgo02Ciathp",
        "outputId": "9a6e1425-1efb-40f7-8b61-7a94dca43660"
      },
      "execution_count": null,
      "outputs": [
        {
          "output_type": "stream",
          "name": "stdout",
          "text": [
            "apple\n",
            "banana\n",
            "cherry\n"
          ]
        }
      ]
    },
    {
      "cell_type": "markdown",
      "source": [
        "# Using a While Loop\n",
        "You can loop through the list items by using a while loop.\n",
        "\n",
        "Use the len() function to determine the length of the list, then start at 0 and loop your way through the list items by referring to their indexes.\n",
        "\n",
        "Remember to increase the index by 1 after each iteration."
      ],
      "metadata": {
        "id": "W0aGSy6NcfyC"
      }
    },
    {
      "cell_type": "code",
      "source": [
        "# Print all items, using a while loop to go through all the index numbers\n",
        "'''\n",
        "thislist = [\"apple\", \"banana\", \"cherry\"]\n",
        "i = 0\n",
        "while i< len(thislist):\n",
        "  print(thislist[i])\n",
        "  i = i + 1\n",
        "'''\n",
        "\n",
        "# Looping Using List Comprehension\n",
        "# List Comprehension offers the shortest syntax for looping through lists:\n",
        "# Example, A short hand for loop that will print all items in a list:\n",
        "\n",
        "thislist = [\"apple\", \"banana\", \"cherry\"]\n",
        "[print(x) for x in thislist[0]]\n",
        "[print(x) for x in thislist]"
      ],
      "metadata": {
        "colab": {
          "base_uri": "https://localhost:8080/"
        },
        "id": "xKVzM2EDeOB3",
        "outputId": "881c9cb8-2df0-4512-a014-82b32e800d65"
      },
      "execution_count": null,
      "outputs": [
        {
          "output_type": "stream",
          "name": "stdout",
          "text": [
            "a\n",
            "p\n",
            "p\n",
            "l\n",
            "e\n",
            "apple\n",
            "banana\n",
            "cherry\n"
          ]
        },
        {
          "output_type": "execute_result",
          "data": {
            "text/plain": [
              "[None, None, None]"
            ]
          },
          "metadata": {},
          "execution_count": 67
        }
      ]
    },
    {
      "cell_type": "markdown",
      "source": [
        "# List Comprehension\n",
        "List comprehension offers a shorter syntax when you want to create a new list based on the values of an existing list.\n",
        "\n",
        "Example:\n",
        "Based on a list of fruits, you want a new list, containing only the fruits with the letter \"a\" in the name.\n",
        "\n",
        "Without list comprehension you will have to write a for statement with a conditional test inside:"
      ],
      "metadata": {
        "id": "rL3V8YsBlJPx"
      }
    },
    {
      "cell_type": "code",
      "source": [
        "# Example: Based on a list of fruits, you want a new list, containing only the fruits with the letter \"a\" in the name.\n",
        "# Without list comprehension you will have to write a for statement with a conditional test inside\n",
        "\n",
        "fruits = [\"apple\", \"banana\", \"cherry\", \"kiwi\", \"mango\"]\n",
        "a_newlist = []\n",
        "e_newlist = []\n",
        "i_newlist = []\n",
        "o_newlist = []\n",
        "u_newlist = []\n",
        "\n",
        "for x in fruits:\n",
        "  if \"a\" in x :\n",
        "    a_newlist.append(x)\n",
        "  elif \"e\" in x:\n",
        "    e_newlist.append(x)\n",
        "  elif \"i\" in x:\n",
        "    i_newlist.append(x)\n",
        "  elif \"o\" in x:\n",
        "    o_newlist.append(x)\n",
        "  elif \"u\" in x:\n",
        "    u_newlist.append(x)\n",
        "\n",
        "print(a_newlist)\n",
        "print(e_newlist)\n",
        "print(i_newlist)\n",
        "print(o_newlist)\n",
        "print(u_newlist)"
      ],
      "metadata": {
        "colab": {
          "base_uri": "https://localhost:8080/"
        },
        "id": "EYSMg0kwlPHS",
        "outputId": "cc10f442-7d18-48ce-edd5-0386f8849290"
      },
      "execution_count": null,
      "outputs": [
        {
          "output_type": "stream",
          "name": "stdout",
          "text": [
            "['apple', 'banana', 'mango']\n",
            "['cherry']\n",
            "['kiwi']\n",
            "[]\n",
            "[]\n"
          ]
        }
      ]
    },
    {
      "cell_type": "code",
      "source": [
        "# With list comprehension you can do all that with only one line of code:\n",
        "\n",
        "fruits = [\"apple\",\"banana\",\"cherry\",\"kiwi\",\"mango\"]\n",
        "\n",
        "newlist = [x for x in fruits if \"a\" in x]\n",
        "print(newlist)\n",
        "\n",
        "#################################\n",
        "\n",
        "[print(x) for x in fruits if \"a\" in x]"
      ],
      "metadata": {
        "colab": {
          "base_uri": "https://localhost:8080/"
        },
        "id": "zFrvP7C_nVSh",
        "outputId": "3e885a06-f5be-47ba-8f93-1b9568f56848"
      },
      "execution_count": null,
      "outputs": [
        {
          "output_type": "stream",
          "name": "stdout",
          "text": [
            "['apple', 'banana', 'mango']\n",
            "apple\n",
            "banana\n",
            "mango\n"
          ]
        },
        {
          "output_type": "execute_result",
          "data": {
            "text/plain": [
              "[None, None, None]"
            ]
          },
          "metadata": {},
          "execution_count": 73
        }
      ]
    },
    {
      "cell_type": "code",
      "source": [
        "hour = int(input(\"Starting time (hours): \"))\n",
        "mins = int(input(\"Starting time (minutes): \"))\n",
        "dura = int(input(\"Event duration (minutes): \"))\n",
        "\n",
        "# Write your code here.\n",
        "\n",
        "mins = mins + dura # find a total of all minutes\n",
        "hour = hour + mins // 60 # find a number of hours hidden in minutes and update the hour\n",
        "mins = mins % 60 # correct minutes to fall in the (0..59) range\n",
        "hour = hour % 24 # correct hours to fall in the (0..23) range\n",
        "print(hour, \":\", mins, sep='')"
      ],
      "metadata": {
        "colab": {
          "base_uri": "https://localhost:8080/"
        },
        "id": "WGGmEX_j9QaX",
        "outputId": "3b2e1800-3bd9-48ed-ac11-f11296cb0cef"
      },
      "execution_count": null,
      "outputs": [
        {
          "output_type": "stream",
          "name": "stdout",
          "text": [
            "Starting time (hours): 0\n",
            "Starting time (minutes): 1\n",
            "Event duration (minutes): 2939\n",
            "1:0\n"
          ]
        }
      ]
    },
    {
      "cell_type": "code",
      "source": [
        "# Read three numbers\n",
        "num1 = int(input(\"Enter the First number\"))\n",
        "num2 = int(input(\"Enter the Second number\"))\n",
        "num3 = int(input(\"Enter the third number\"))\n",
        "\n",
        "# We temporarily assume that the first number # is the largest one.\n",
        "# We will verify this soon.\n",
        "largest_num = num1\n",
        "\n",
        "# We check if the second number is larger than the current largest_number\n",
        "# and update the largest_number if needed.\n",
        "if num2 > num1:\n",
        "  largest_num = num2\n",
        "\n",
        "# We check if the third number is larger than the current largest_number\n",
        "# and update the largest_number if needed.\n",
        "if num3 > largest_num:\n",
        "  largest_num = num3\n",
        "\n",
        "# Print the result\n",
        "print(\"The largest number is :\", largest_num)\n"
      ],
      "metadata": {
        "colab": {
          "base_uri": "https://localhost:8080/"
        },
        "id": "dUi1vNWQhfqq",
        "outputId": "e8b7e58e-7e6f-486a-8d6c-5f1b0fe494a1"
      },
      "execution_count": null,
      "outputs": [
        {
          "output_type": "stream",
          "name": "stdout",
          "text": [
            "Enter the First number8\n",
            "Enter the Second number9\n",
            "Enter the third number10\n",
            "The largest number is : 10\n"
          ]
        }
      ]
    },
    {
      "cell_type": "code",
      "source": [
        "# finding the leap year\n",
        "year = int(input(\"Enter a year: \"))\n",
        "\n",
        "if year < 1582:\n",
        "\tprint(\"Not within the Gregorian calendar period\")\n",
        "else:\n",
        "\tif year % 4 != 0:\n",
        "\t\tprint(\"Common year\")\n",
        "\telif year % 100 != 0:\n",
        "\t\tprint(\"Leap year\")\n",
        "\telif year % 400 != 0:\n",
        "\t\tprint(\"Common year\")\n",
        "\telse:\n",
        "\t\tprint(\"Leap year\")\n"
      ],
      "metadata": {
        "id": "9ztbkTFcuFec"
      },
      "execution_count": null,
      "outputs": []
    }
  ]
}