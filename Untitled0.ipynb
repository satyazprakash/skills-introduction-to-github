{
  "nbformat": 4,
  "nbformat_minor": 0,
  "metadata": {
    "colab": {
      "provenance": [],
      "toc_visible": true,
      "authorship_tag": "ABX9TyOSZ3ktJsEr/tvwi5rzay0l",
      "include_colab_link": true
    },
    "kernelspec": {
      "name": "python3",
      "display_name": "Python 3"
    },
    "language_info": {
      "name": "python"
    }
  },
  "cells": [
    {
      "cell_type": "markdown",
      "metadata": {
        "id": "view-in-github",
        "colab_type": "text"
      },
      "source": [
        "<a href=\"https://colab.research.google.com/github/satyazprakash/skills-introduction-to-github/blob/main/Untitled0.ipynb\" target=\"_parent\"><img src=\"https://colab.research.google.com/assets/colab-badge.svg\" alt=\"Open In Colab\"/></a>"
      ]
    },
    {
      "cell_type": "code",
      "execution_count": null,
      "metadata": {
        "id": "Xz3OvDToSjFF"
      },
      "outputs": [],
      "source": []
    },
    {
      "cell_type": "code",
      "source": [
        "## Program to check for palindrome for the inputted string.\n",
        "\n",
        "def check_palindrome (string):\n",
        "  string = string.replace(\" \",\"\")  ## Remove  Empty Spaces\n",
        "  string = string.replace(\",\",\"\")  ## Remove  commas\n",
        "  string = string.lower() ## converts the string to lowercase\n",
        "\n",
        "  reversed_string = string[::-1] ## new variable has the reversed string inputted\n",
        "\n",
        "  return string == reversed_string    #check if the string is equal to its reverse\n",
        "\n",
        "#example usage\n",
        "input_string = input(\"Enter a string: \")\n",
        "if check_palindrome (input_string):\n",
        "  print(f'\"{input_string}\" is a palindrome !')\n",
        "else:\n",
        "  print(f'\"{input_string}\" is not a palindrome ')\n"
      ],
      "metadata": {
        "colab": {
          "base_uri": "https://localhost:8080/"
        },
        "id": "5B1_915yT3KQ",
        "outputId": "d636196a-acac-4734-c5e0-4f7dd5b5b9d0"
      },
      "execution_count": null,
      "outputs": [
        {
          "output_type": "stream",
          "name": "stdout",
          "text": [
            "Enter a string: A man, a plan, a canal, Panama\n",
            "\"A man, a plan, a canal, Panama\" is a palindrome !\n"
          ]
        }
      ]
    },
    {
      "cell_type": "code",
      "source": [
        "'''def longest_common_prefix(strings):\n",
        "    if not strings:\n",
        "        return \"\"\n",
        "\n",
        "    # Start with the first string as the prefix\n",
        "    prefix = strings[0]\n",
        "\n",
        "    for string in strings[1:]:\n",
        "        while not string.startswith(prefix):\n",
        "            # Shorten the prefix until it matches\n",
        "            prefix = prefix[:-1]\n",
        "            if not prefix:\n",
        "                return \"\"\n",
        "\n",
        "    return prefix '''\n",
        "'''\n",
        "strings = []\n",
        "if not strings:\n",
        "  print(\"String is empty\")   '''\n",
        "'''\n",
        "strings = None\n",
        "if not strings:\n",
        "  print(\"String is empty even though it is having value None\")  '''\n",
        "\n",
        "'''strings = \"Hello\"\n",
        "if not strings:\n",
        "  print(\"this should not get printed as the string is initialized with hello\") '''"
      ],
      "metadata": {
        "id": "YC2lmTiccdHi"
      },
      "execution_count": null,
      "outputs": []
    },
    {
      "cell_type": "code",
      "source": [
        "def longest_common_prefix(strings):\n",
        "  if not strings:\n",
        "    return \"\"\n",
        "\n",
        "    prefix = strings[0] # start with the first string as the prefix\n",
        "\n",
        "    for string in strings[1:]:\n",
        "      while not strings.startswith(prefix):\n",
        "        #shorten the prefix until it matches\n",
        "        prefix = prefix[:-1]\n",
        "        if not prefix:\n",
        "          return \"\"\n",
        "\n",
        "    return prefix\n"
      ],
      "metadata": {
        "id": "t1vGPYtyf361"
      },
      "execution_count": null,
      "outputs": []
    }
  ]
}