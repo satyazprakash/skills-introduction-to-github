{
  "nbformat": 4,
  "nbformat_minor": 0,
  "metadata": {
    "colab": {
      "provenance": [],
      "authorship_tag": "ABX9TyO/GbAAGduHiuANNk/7qW0Z",
      "include_colab_link": true
    },
    "kernelspec": {
      "name": "python3",
      "display_name": "Python 3"
    },
    "language_info": {
      "name": "python"
    }
  },
  "cells": [
    {
      "cell_type": "markdown",
      "metadata": {
        "id": "view-in-github",
        "colab_type": "text"
      },
      "source": [
        "<a href=\"https://colab.research.google.com/github/satyazprakash/skills-introduction-to-github/blob/main/Python_Operators_Practice.ipynb\" target=\"_parent\"><img src=\"https://colab.research.google.com/assets/colab-badge.svg\" alt=\"Open In Colab\"/></a>"
      ]
    },
    {
      "cell_type": "markdown",
      "source": [
        "#**Python Operators**\n",
        "##Operators are used to perform operations on variables and values."
      ],
      "metadata": {
        "id": "Rm6Ol0Xm3sFM"
      }
    },
    {
      "cell_type": "code",
      "source": [
        "# In the example below, we use the + operator to add together two values:\n",
        "# Example\n",
        "\n",
        "print(10 + 5 )"
      ],
      "metadata": {
        "colab": {
          "base_uri": "https://localhost:8080/"
        },
        "id": "g8m2o9m03zmU",
        "outputId": "21cfba1d-94d8-40dd-ee77-5ec6809ddd2f"
      },
      "execution_count": null,
      "outputs": [
        {
          "output_type": "stream",
          "name": "stdout",
          "text": [
            "15\n",
            "15\n"
          ]
        }
      ]
    },
    {
      "cell_type": "markdown",
      "source": [
        "##Python divides the operators in the following groups:\n",
        "\n",
        "Arithmetic operators\n",
        "\n",
        "Assignment operators\n",
        "\n",
        "Comparison operators\n",
        "\n",
        "Logical operators\n",
        "\n",
        "Identity operators\n",
        "\n",
        "Membership operators\n",
        "\n",
        "Bitwise operators"
      ],
      "metadata": {
        "id": "bBKgdsDi4foJ"
      }
    },
    {
      "cell_type": "markdown",
      "source": [
        "##Python Arithmetic Operators\n",
        "Arithmetic operators are used with numeric values to perform common mathematical operations:"
      ],
      "metadata": {
        "id": "c1cdtwg7534B"
      }
    },
    {
      "cell_type": "code",
      "source": [
        "# +\tAddition\n",
        "x = 10\n",
        "y = 15\n",
        "print( x + y ,\" :=> Output of Addition + Operator\")\n",
        "\n",
        "# - Substraction\n",
        "x = 10\n",
        "y = 5\n",
        "print(x - y ,\" :=> Output of Subtraction - Operator\")\n",
        "\n",
        "# * Multiplication\n",
        "x = 10\n",
        "y = 21\n",
        "print( x * y  ,\" :=> Output of Multiplication * Operator\")\n",
        "\n",
        "#Division\n",
        "x = 34\n",
        "y = 17\n",
        "print( x / y  ,\" :=> Output of Division / Operator\")\n",
        "\n",
        "# Modulus\n",
        "x = 17\n",
        "y = 7\n",
        "print( x % y  ,\" :=> Output of MOdulus % Operator\")\n",
        "\n",
        "# Exponentiation\n",
        "x = 18\n",
        "y = 21\n",
        "print( x ** y  ,\" :=> Output of Exponentiation ** Operator\") #same as 2*2*2*2*2\n",
        "\n",
        "#Floor Division\n",
        "x = 39\n",
        "y = 8\n",
        "print(x // y ,\" :=> Output of Floor Division // Operator\") #the floor division // rounds the result down to the nearest whole number"
      ],
      "metadata": {
        "colab": {
          "base_uri": "https://localhost:8080/"
        },
        "id": "lIDDFZeq58k6",
        "outputId": "b6c737dd-d027-493f-d1e5-b1350a0b601c"
      },
      "execution_count": null,
      "outputs": [
        {
          "output_type": "stream",
          "name": "stdout",
          "text": [
            "25  :=> Output of Addition + Operator\n",
            "5  :=> Output of Subtraction - Operator\n",
            "210  :=> Output of Multiplication * Operator\n",
            "2.0  :=> Output of Division / Operator\n",
            "3  :=> Output of MOdulus % Operator\n",
            "229468251895129407139872768  :=> Output of Exponentiation ** Operator\n",
            "4  :=> Output of Floor Division // Operator\n"
          ]
        }
      ]
    },
    {
      "cell_type": "markdown",
      "source": [
        "#Python Assignment Operators\n",
        "##Assignment operators are used to assign values to variables:"
      ],
      "metadata": {
        "id": "KfTdkJOC8LEv"
      }
    },
    {
      "cell_type": "code",
      "source": [
        "# Assignment operators are used to assign values to variables:\n",
        "\n",
        "x = 50\n",
        "print(x, \":=> Example of =  assignment operator\")\n",
        "\n",
        "#x = x + 3\n",
        "x += 3\n",
        "print(x, \":=> Example of +=  assignment operator\")\n",
        "\n",
        "#x = x - 3\n",
        "x -= 3\n",
        "print(x, \":=> Example of -=  assignment operator\")\n",
        "\n",
        "#x = x *3\n",
        "x *= 3\n",
        "print(x, \":=> Example of *=  assignment operator\")\n",
        "\n",
        "#x = x / 3\n",
        "x /= 3\n",
        "print(x, \":=> Example of /=  assignment operator\")\n",
        "\n",
        "#x = x % 3\n",
        "x %= 3\n",
        "print(x, \":=> Example of %=  assignment operator\")\n",
        "\n",
        "x = 50\n",
        "#x = x // 3\n",
        "x //= 3\n",
        "print(x, \":=> Example of //=  assignment operator\")\n",
        "\n",
        "#x = X ** 3\n",
        "x **= 3\n",
        "print(x, \":=> Example of **=  assignment operator\")\n",
        "\n",
        "#x = x & 3\n",
        "x &= 3\n",
        "print(x, \":=> Example of &=  assignment operator\")\n",
        "\n",
        "x= 10\n",
        "# x = x | 3\n",
        "x |= 3\n",
        "print(x, \":=> Example of |=  assignment operator\")\n",
        "\n",
        "# x = x ^ 3\n",
        "x ^= 3\n",
        "print(x, \":=> Example of ^=  assignment operator\")\n",
        "\n",
        "# x = x >> 3\n",
        "x >>= 3\n",
        "print(x, \":=> Example of >>=  assignment operator\")\n",
        "\n",
        "# x = x << 3\n",
        "x <<= 3\n",
        "print(x, \":=> Example of & <<=  assignment operator\")\n",
        "\n",
        "# x = 3\n",
        "# x := 3 (Valid inside the Print Function)\n",
        "print(x := 3, \":=> Example of :=  assignment operator\")"
      ],
      "metadata": {
        "colab": {
          "base_uri": "https://localhost:8080/"
        },
        "id": "RzARaPgS8OtB",
        "outputId": "b00b05b1-a244-4c24-eac4-e267a5fdd316"
      },
      "execution_count": null,
      "outputs": [
        {
          "output_type": "stream",
          "name": "stdout",
          "text": [
            "50 :=> Example of =  assignment operator\n",
            "53 :=> Example of +=  assignment operator\n",
            "50 :=> Example of -=  assignment operator\n",
            "150 :=> Example of *=  assignment operator\n",
            "50.0 :=> Example of /=  assignment operator\n",
            "2.0 :=> Example of %=  assignment operator\n",
            "16 :=> Example of //=  assignment operator\n",
            "4096 :=> Example of **=  assignment operator\n",
            "0 :=> Example of &=  assignment operator\n",
            "11 :=> Example of |=  assignment operator\n",
            "8 :=> Example of ^=  assignment operator\n",
            "1 :=> Example of >>=  assignment operator\n",
            "8 :=> Example of & <<=  assignment operator\n",
            "3 :=> Example of :=  assignment operator\n"
          ]
        }
      ]
    },
    {
      "cell_type": "markdown",
      "source": [
        "# Python Comparison Operators\n",
        "## Comparison operators are used to compare two values:"
      ],
      "metadata": {
        "id": "IAQs0mWrKMaP"
      }
    },
    {
      "cell_type": "code",
      "source": [
        "# Equal\n",
        "\n",
        "x = 5\n",
        "y = 3\n",
        "print(x == y, \" :=> Example of equality operator ==  which returns True if both variables have same value and False otherwise\")\n",
        "\n",
        "print(x != y, \" :=> Example of Not Equal operator !=  which returns True if both variables have DIfferent value and False otherwise\")\n",
        "\n",
        "print(x > y, \" :=> Example of Greater Than operator >  which returns True if left variable is greater than right variable and False otherwise\")\n",
        "\n",
        "print(x < y, \" :=> Example of Less Than operator >  which returns True if left variable is less than right variable and False otherwise\")\n",
        "\n",
        "print(x >= y, \" :=> Example of Greater Than or equal to operator >  which returns True if left variable is greater or equal to right variable and False otherwise\")\n",
        "\n",
        "print(x <= y, \" :=> Example of Less Than or equal to operator >  which returns True if left variable is less or equal to right variable and False otherwise\")\n",
        "\n"
      ],
      "metadata": {
        "colab": {
          "base_uri": "https://localhost:8080/"
        },
        "id": "e-gBjxHJKTfx",
        "outputId": "3a0abf23-239d-4baa-c48f-06b15d1ed00b"
      },
      "execution_count": null,
      "outputs": [
        {
          "output_type": "stream",
          "name": "stdout",
          "text": [
            "False  :=> Example of equality operator ==  which returns True if both variables have same value and False otherwise\n",
            "True  :=> Example of Not Equal operator !=  which returns True if both variables have DIfferent value and False otherwise\n",
            "True  :=> Example of Greater Than operator >  which returns True if left variable is greater than right variable and False otherwise\n",
            "False  :=> Example of Less Than operator >  which returns True if left variable is less than right variable and False otherwise\n",
            "True  :=> Example of Greater Than or equal to operator >  which returns True if left variable is greater or equal to right variable and False otherwise\n",
            "False  :=> Example of Less Than or equal to operator >  which returns True if left variable is less or equal to right variable and False otherwise\n"
          ]
        }
      ]
    },
    {
      "cell_type": "markdown",
      "source": [
        "#Python Logical Operators\n",
        "##Logical operators are used to combine conditional statements:"
      ],
      "metadata": {
        "id": "rmG1iJF4MPRI"
      }
    },
    {
      "cell_type": "code",
      "source": [
        "# Operator and :\tReturns True if both statements are true\tx < 5 and  x < 10\n",
        "x = 5\n",
        "print((x > 3 and x < 10), \" # returns True because 5 is greater than 3 AND 5 is less than 10\")\n",
        "\n",
        "# Operator  or :\tReturns True if one of the statements is true\tx < 5 or x < 4\n",
        "x = 5\n",
        "print((x > 3 or x < 4), \" # returns True because one of the conditions are true (5 is greater than 3, but 5 is not less than 4) \")\n",
        "\n",
        "# Operator not :\tReverse the result, returns False if the result is true\tnot(x < 5 and x < 10)\n",
        "x = 5\n",
        "print((not(x > 3 and x < 10)), \"# returns False because not is used to reverse the result \" )\n"
      ],
      "metadata": {
        "colab": {
          "base_uri": "https://localhost:8080/"
        },
        "id": "03wsLHfTMTd7",
        "outputId": "9c650e84-3026-49f8-dc26-3d8b611b2954"
      },
      "execution_count": null,
      "outputs": [
        {
          "output_type": "stream",
          "name": "stdout",
          "text": [
            "True  # returns True because 5 is greater than 3 AND 5 is less than 10\n",
            "True  # returns True because one of the conditions are true (5 is greater than 3, but 5 is not less than 4) \n",
            "False # returns False because not is used to reverse the result \n"
          ]
        }
      ]
    },
    {
      "cell_type": "markdown",
      "source": [
        "#Python Identity Operators\n",
        "##Identity operators are used to compare the objects, not if they are equal, but if they are actually the same object, with the same memory location:"
      ],
      "metadata": {
        "id": "A3vRPmFIPChx"
      }
    },
    {
      "cell_type": "code",
      "source": [
        "# is \tReturns True if both variables are the same object\tx is y\n",
        "\n",
        "x = [\"apple\", \"banana\"]\n",
        "y = [\"apple\", \"banana\"]\n",
        "\n",
        "z = x\n",
        "\n",
        "print((x is z), \" # Identity Operator \\\"is\\\" returns True because z is the same object as x\")\n",
        "\n",
        "print((x is y), \" # Identity Operator \\\"is\\\" returns False because x is not the same object as y, even if they have the same content \")\n",
        "\n",
        "print((x == y), \" # Operator == to demonstrate the difference betweeen \\\"is\\\" and \\\"==\\\": this comparison returns True because x is equal to y\")\n"
      ],
      "metadata": {
        "colab": {
          "base_uri": "https://localhost:8080/"
        },
        "id": "RHua6N9XPmf0",
        "outputId": "993d5214-373e-4c92-cd39-6b072d179284"
      },
      "execution_count": null,
      "outputs": [
        {
          "output_type": "stream",
          "name": "stdout",
          "text": [
            "True  # Identity Operator \"is\" returns True because z is the same object as x\n",
            "False  # Identity Operator \"is\" returns False because x is not the same object as y, even if they have the same content \n",
            "True  # Operator == to demonstrate the difference betweeen \"is\" and \"==\": this comparison returns True because x is equal to y\n"
          ]
        }
      ]
    },
    {
      "cell_type": "code",
      "source": [
        "##########################################\n",
        "\n",
        "# \"is not\"\tReturns True if both variables are not the same object\tx is not y\n",
        "\n",
        "x = [\"apple\", \"banana\"]\n",
        "y = [\"apple\", \"banana\"]\n",
        "z = x\n",
        "\n",
        "print((x is not z), \" # returns False because z is the same object as x\")\n",
        "\n",
        "print((x is not y), \"# returns True because x is not the same object as y, even if they have the same content\")\n",
        "\n",
        "print((x != y), \"# to demonstrate the difference betweeen \\\"is not\\\" and \\\"!=\\\": this comparison returns False because x is equal to y\")"
      ],
      "metadata": {
        "colab": {
          "base_uri": "https://localhost:8080/"
        },
        "id": "9izbTFaCS_dn",
        "outputId": "2967e5e9-b4de-4130-a6bd-b730e89f4eb9"
      },
      "execution_count": null,
      "outputs": [
        {
          "output_type": "stream",
          "name": "stdout",
          "text": [
            "False  # returns False because z is the same object as x\n",
            "True # returns True because x is not the same object as y, even if they have the same content\n",
            "False # to demonstrate the difference betweeen \"is not\" and \"!=\": this comparison returns False because x is equal to y\n"
          ]
        }
      ]
    },
    {
      "cell_type": "markdown",
      "source": [
        "#Python Membership Operators\n",
        "##Membership operators are used to test if a sequence is presented in an object:"
      ],
      "metadata": {
        "id": "rBhrztD3TQt4"
      }
    },
    {
      "cell_type": "code",
      "source": [
        "# in \tReturns True if a sequence with the specified value is present in the object\tx in y\n",
        "\n",
        "x = [\"apple\", \"banana\"]\n",
        "\n",
        "print(\"apple\" in x, \"# returns True because a sequence with the value \\\"apple\\\" is in the list \")\n"
      ],
      "metadata": {
        "colab": {
          "base_uri": "https://localhost:8080/"
        },
        "id": "Uwwpx2DBTUSM",
        "outputId": "9335e7be-ec74-42e0-d48e-58b14febd741"
      },
      "execution_count": null,
      "outputs": [
        {
          "output_type": "stream",
          "name": "stdout",
          "text": [
            "True # returns True because a sequence with the value \"apple\" is in the list \n"
          ]
        }
      ]
    },
    {
      "cell_type": "code",
      "source": [
        "# not in\tReturns True if a sequence with the specified value is not present in the object\tx not in y\n",
        "\n",
        "\n",
        "x = [\"apple\", \"banana\"]\n",
        "\n",
        "print(\"pineapple\" not in x, \" # returns True because a sequence with the value \\\"pineapple\\\" is not in the list \")"
      ],
      "metadata": {
        "colab": {
          "base_uri": "https://localhost:8080/"
        },
        "id": "V8NxrDHSUBcs",
        "outputId": "4231b7c7-a7d7-4753-a7b7-47b4c6f0535d"
      },
      "execution_count": null,
      "outputs": [
        {
          "output_type": "stream",
          "name": "stdout",
          "text": [
            "True  # returns True because a sequence with the value \"pineapple\" is not in the list \n"
          ]
        }
      ]
    },
    {
      "cell_type": "markdown",
      "source": [
        "#Python Bitwise Operators\n",
        "##Bitwise operators are used to compare (binary) numbers:"
      ],
      "metadata": {
        "id": "da_m9YeWUnWT"
      }
    },
    {
      "cell_type": "code",
      "source": [
        "# & \tName: AND\t Ths Bitwise Operator Sets each bit to 1 if both bits are 1, \tExample: x & y\n",
        "\n",
        "print(( 6 & 3), \" # The & operator compares each bit and set it to 1 if both are 1, otherwise it is set to 0:\")\n",
        "\n",
        "\"\"\"\n",
        "The & operator compares each bit and set it to 1 if both are 1, otherwise it is set to 0:\n",
        "\n",
        "6 = 0000000000000110\n",
        "3 = 0000000000000011\n",
        "--------------------\n",
        "2 = 0000000000000010\n",
        "====================\n",
        "Decimal numbers and their binary values:\n",
        "0 = 0000000000000000\n",
        "1 = 0000000000000001\n",
        "2 = 0000000000000010\n",
        "3 = 0000000000000011\n",
        "4 = 0000000000000100\n",
        "5 = 0000000000000101\n",
        "6 = 0000000000000110\n",
        "7 = 0000000000000111\n",
        "\"\"\""
      ],
      "metadata": {
        "colab": {
          "base_uri": "https://localhost:8080/",
          "height": 90
        },
        "id": "3Myoy1kJUv8u",
        "outputId": "2a4ffad0-d682-4f6d-d15a-92209a1d990c"
      },
      "execution_count": null,
      "outputs": [
        {
          "output_type": "stream",
          "name": "stdout",
          "text": [
            "2  # The & operator compares each bit and set it to 1 if both are 1, otherwise it is set to 0:\n"
          ]
        },
        {
          "output_type": "execute_result",
          "data": {
            "text/plain": [
              "'\\nThe & operator compares each bit and set it to 1 if both are 1, otherwise it is set to 0:\\n\\n6 = 0000000000000110\\n3 = 0000000000000011\\n--------------------\\n2 = 0000000000000010\\n====================\\nDecimal numbers and their binary values:\\n0 = 0000000000000000\\n1 = 0000000000000001\\n2 = 0000000000000010\\n3 = 0000000000000011\\n4 = 0000000000000100\\n5 = 0000000000000101\\n6 = 0000000000000110\\n7 = 0000000000000111\\n'"
            ],
            "application/vnd.google.colaboratory.intrinsic+json": {
              "type": "string"
            }
          },
          "metadata": {},
          "execution_count": 43
        }
      ]
    },
    {
      "cell_type": "code",
      "source": [
        "# |    Name :\tOR\tThis Bitwise Operator Sets each bit to 1 if one of two bits is 1\t, Example : x | y\n",
        "\n",
        "print((6 | 3), \" # The | operator compares each bit and set it to 1 if one or both is 1, otherwise it is set to 0: \" )\n",
        "\n",
        "\"\"\"\n",
        "The | operator compares each bit and set it to 1 if one or both is 1, otherwise it is set to 0:\n",
        "\n",
        "6 = 0000000000000110\n",
        "3 = 0000000000000011\n",
        "--------------------\n",
        "7 = 0000000000000111\n",
        "====================\n",
        "\"\"\""
      ],
      "metadata": {
        "colab": {
          "base_uri": "https://localhost:8080/",
          "height": 72
        },
        "id": "MKoc5q5pVcUV",
        "outputId": "0686e90a-9c65-419f-b420-7083c2480f4f"
      },
      "execution_count": null,
      "outputs": [
        {
          "output_type": "stream",
          "name": "stdout",
          "text": [
            "7  # The | operator compares each bit and set it to 1 if one or both is 1, otherwise it is set to 0: \n"
          ]
        },
        {
          "output_type": "execute_result",
          "data": {
            "text/plain": [
              "'\\nThe | operator compares each bit and set it to 1 if one or both is 1, otherwise it is set to 0:\\n\\n6 = 0000000000000110\\n3 = 0000000000000011\\n--------------------\\n7 = 0000000000000111\\n====================\\n'"
            ],
            "application/vnd.google.colaboratory.intrinsic+json": {
              "type": "string"
            }
          },
          "metadata": {},
          "execution_count": 44
        }
      ]
    },
    {
      "cell_type": "code",
      "source": [
        "# ^\t   NAME : XOR\t     This Bitwise Operator Sets each bit to 1 if only one of two bits is 1,  Example : \tx ^ y\n",
        "\n",
        "\n",
        "print ((6 ^ 3), \" # The ^ operator compares each bit and set it to 1 if only one is 1, otherwise (if both are 1 or both are 0) it is set to 0: \")\n",
        "\n",
        "\"\"\"\n",
        "The ^ operator compares each bit and set it to 1 if only one is 1, otherwise (if both are 1 or both are 0) it is set to 0:\n",
        "\n",
        "6 = 0000000000000110\n",
        "3 = 0000000000000011\n",
        "--------------------\n",
        "5 = 0000000000000101\n",
        "==================== \"\"\""
      ],
      "metadata": {
        "colab": {
          "base_uri": "https://localhost:8080/",
          "height": 72
        },
        "id": "BYUCpc6qWIh1",
        "outputId": "7930c82b-d0f3-4bb2-9483-a63f832a2a18"
      },
      "execution_count": null,
      "outputs": [
        {
          "output_type": "stream",
          "name": "stdout",
          "text": [
            "5  # The ^ operator compares each bit and set it to 1 if only one is 1, otherwise (if both are 1 or both are 0) it is set to 0: \n"
          ]
        },
        {
          "output_type": "execute_result",
          "data": {
            "text/plain": [
              "'\\nThe ^ operator compares each bit and set it to 1 if only one is 1, otherwise (if both are 1 or both are 0) it is set to 0:\\n\\n6 = 0000000000000110\\n3 = 0000000000000011\\n--------------------\\n5 = 0000000000000101\\n==================== '"
            ],
            "application/vnd.google.colaboratory.intrinsic+json": {
              "type": "string"
            }
          },
          "metadata": {},
          "execution_count": 45
        }
      ]
    },
    {
      "cell_type": "code",
      "source": [
        "#  ~\tName : NOT\tThis Bitwise Operator Inverts all the bits\t, Example : ~x\n",
        "\n",
        "print ( (~3), \" # The ~ operator inverts each bit (0 becomes 1 and 1 becomes 0).\" )\n",
        "\n",
        "\"\"\"\n",
        "The ~ operator inverts each bit (0 becomes 1 and 1 becomes 0).\n",
        "\n",
        "Inverted 3 becomes -4:\n",
        " 3 = 0000000000000011\n",
        "-4 = 1111111111111100\n",
        "\"\"\"\n"
      ],
      "metadata": {
        "colab": {
          "base_uri": "https://localhost:8080/",
          "height": 54
        },
        "id": "j2JGxe2fXC2I",
        "outputId": "a9a1e254-2acd-4e8f-98ec-53e97a371cd8"
      },
      "execution_count": null,
      "outputs": [
        {
          "output_type": "stream",
          "name": "stdout",
          "text": [
            "-4  # The ~ operator inverts each bit (0 becomes 1 and 1 becomes 0).\n"
          ]
        },
        {
          "output_type": "execute_result",
          "data": {
            "text/plain": [
              "'\\nThe ~ operator inverts each bit (0 becomes 1 and 1 becomes 0).\\n\\nInverted 3 becomes -4:\\n 3 = 0000000000000011\\n-4 = 1111111111111100\\n'"
            ],
            "application/vnd.google.colaboratory.intrinsic+json": {
              "type": "string"
            }
          },
          "metadata": {},
          "execution_count": 47
        }
      ]
    },
    {
      "cell_type": "code",
      "source": [
        "# <<\tName :Zero fill left shift\tShift left by pushing zeros in from the right and let the leftmost bits fall off Example:\tx << 2\n",
        "\n",
        "print(3 << 2)\n",
        "\n",
        "print((3 << 2), \" # The << operator inserts the specified number of 0's (in this case 2) from the right and let the same amount of leftmost bits fall off:\")\n",
        "\"\"\"\n",
        "The << operator inserts the specified number of 0's (in this case 2) from the right and let the same amount of leftmost bits fall off:\n",
        "\n",
        "If you push 00 in from the left:\n",
        " 3 = 0000000000000011\n",
        "becomes\n",
        "12 = 0000000000001100 \"\"\""
      ],
      "metadata": {
        "colab": {
          "base_uri": "https://localhost:8080/",
          "height": 90
        },
        "id": "MwqpnyHGt-3C",
        "outputId": "730bd78a-7dd7-490e-a372-f5a84e5e18b5"
      },
      "execution_count": null,
      "outputs": [
        {
          "output_type": "stream",
          "name": "stdout",
          "text": [
            "12\n",
            "12  # The << operator inserts the specified number of 0's (in this case 2) from the right and let the same amount of leftmost bits fall off:\n"
          ]
        },
        {
          "output_type": "execute_result",
          "data": {
            "text/plain": [
              "\"\\nThe << operator inserts the specified number of 0's (in this case 2) from the right and let the same amount of leftmost bits fall off:\\n\\nIf you push 00 in from the left:\\n 3 = 0000000000000011\\nbecomes\\n12 = 0000000000001100 \""
            ],
            "application/vnd.google.colaboratory.intrinsic+json": {
              "type": "string"
            }
          },
          "metadata": {},
          "execution_count": 1
        }
      ]
    },
    {
      "cell_type": "code",
      "source": [
        "# >>\tName: Signed right shift\tShift right by pushing copies of the leftmost bit in from the left, and let the rightmost bits fall off, Example : \tx >> 2\n",
        "\n",
        "print(8 >> 2)\n",
        "\n",
        "print((8 >> 2), \" # The >> operator moves each bit the specified number of times to the right. Empty holes at the left are filled with 0\\'s.\")\n",
        "\n",
        "\"\"\"\n",
        "The >> operator moves each bit the specified number of times to the right. Empty holes at the left are filled with 0's.\n",
        "\n",
        "If you move each bit 2 times to the right, 8 becomes 2:\n",
        " 8 = 0000000000001000\n",
        "becomes\n",
        " 2 = 0000000000000010 \"\"\""
      ],
      "metadata": {
        "colab": {
          "base_uri": "https://localhost:8080/",
          "height": 90
        },
        "id": "c005fN4Iuod5",
        "outputId": "9b37eaf3-b2e5-4493-ce82-f3140ddc57a2"
      },
      "execution_count": null,
      "outputs": [
        {
          "output_type": "stream",
          "name": "stdout",
          "text": [
            "2\n",
            "2  # The >> operator moves each bit the specified number of times to the right. Empty holes at the left are filled with 0's.\n"
          ]
        },
        {
          "output_type": "execute_result",
          "data": {
            "text/plain": [
              "\"\\nThe >> operator moves each bit the specified number of times to the right. Empty holes at the left are filled with 0's.\\n\\nIf you move each bit 2 times to the right, 8 becomes 2:\\n 8 = 0000000000001000\\nbecomes\\n 2 = 0000000000000010 \""
            ],
            "application/vnd.google.colaboratory.intrinsic+json": {
              "type": "string"
            }
          },
          "metadata": {},
          "execution_count": 2
        }
      ]
    },
    {
      "cell_type": "markdown",
      "source": [
        "# Operator Precedence\n",
        "## Operator precedence describes the order in which operations are performed."
      ],
      "metadata": {
        "id": "Wxa28c-IvPLG"
      }
    },
    {
      "cell_type": "code",
      "source": [
        "# Parentheses has the highest precedence, meaning that expressions inside parentheses must be evaluated first:\n",
        "\n",
        "print((6 + 3) - (6 + 3))\n",
        "\n",
        "##Parenthesis have the highest precedence, and need to be evaluated first.\n",
        "##The calculation above reads 9 - 9 = 0"
      ],
      "metadata": {
        "colab": {
          "base_uri": "https://localhost:8080/"
        },
        "id": "7ZYuKPypvTpP",
        "outputId": "26137af6-73ab-4f76-9dd3-04652be6d08e"
      },
      "execution_count": null,
      "outputs": [
        {
          "output_type": "stream",
          "name": "stdout",
          "text": [
            "0\n"
          ]
        }
      ]
    },
    {
      "cell_type": "code",
      "source": [
        "# Example : Multiplication * has higher precedence than addition +, and therefore multiplications are evaluated before additions:\n",
        "\n",
        "print(100 + 5 * 3)\n",
        "\n",
        "## Multiplication has higher precedence than addition, and needs to be evaluated first.\n",
        "## The calculation above reads 100 + 15 = 115"
      ],
      "metadata": {
        "colab": {
          "base_uri": "https://localhost:8080/"
        },
        "id": "6p95-aATvpAh",
        "outputId": "bf253ca4-eed1-4346-c756-cb6fea5f054a"
      },
      "execution_count": null,
      "outputs": [
        {
          "output_type": "stream",
          "name": "stdout",
          "text": [
            "115\n"
          ]
        }
      ]
    },
    {
      "cell_type": "markdown",
      "source": [
        "## The precedence order is described in the table below, starting with the highest precedence at the top:\n",
        "### If two operators have the same precedence, the expression is evaluated from left to right."
      ],
      "metadata": {
        "id": "TG2O0ecRwAd4"
      }
    },
    {
      "cell_type": "code",
      "source": [
        "# ()\tParentheses\n",
        "\n",
        "print(((6 + 3) - (6 + 3)), \" ##Parenthesis have the highest precedence, and need to be evaluated first. ##The calculation above reads 9 - 9 = 0\" )\n",
        "\n",
        "# **\tExponentiation\n",
        "\n",
        "print((100 - 3 ** 3), \"## Exponentiation has higher precedence than subtraction, and needs to be evaluated first. The calculation above reads 100 - 27 = 73\")\n",
        "\n",
        "\n",
        "# +x  -x  ~x\tUnary plus, unary minus, and bitwise NOT\n",
        "\n",
        "print((100 + ~3), \"Bitwise NOT has higher precedence than addition, and needs to be evaluated first. The calculation above reads 100 + -4 = 96\")\n",
        "\n",
        "# *  /  //  %\tMultiplication, division, floor division, and modulus\n",
        "\n",
        "print((100 + 5 * 3), \"# Multiplication has higher precedence than addition, and needs to be evaluated first. The calculation above reads 100 + 15 = 115 \")\n",
        "\n",
        "# +  -\tAddition and subtraction\n",
        "\n",
        "print((100 - 5 * 3), \"# Subtraction has a lower precedence than multiplication, and we need to calculate the multiplication first. The calculation above reads 100 - 15 = 85 \")\n",
        "\n",
        "# <<  >>\tBitwise left and right shifts\n",
        "\n",
        "print((8 >> 4 - 2), \" Bitwise right shift has a lower precedence than subtraction, and we need to calculate the subtraction first. The calculation above reads 8 >> 2 = 2\" )\n",
        "\n",
        "\n",
        "# &\tBitwise AND\n",
        "print((6 & 2 + 1), \" # Bitwise AND has a lower precedence than addition, and we need to calculate the addition first. The calculation above reads 6 & 3 = 2\")\n",
        "\n",
        "# ^\tBitwise XOR\n",
        "print((6 ^ 2 + 1), \"# Bitwise XOR has a lower precedence than addition, and we need to calculate the addition first. The calculation above reads 6 ^ 3 = 5\")\n",
        "\n",
        "# |\tBitwise OR\n",
        "print((6 | 2 + 1), \"# Bitwise OR has a lower precedence than addition, and we need to calculate the addition first. The calculation above reads 6 | 3 = 7\")\n",
        "\n",
        "# ==  !=  >  >=  <  <=  is  is not  in  not in \tComparisons, identity, and membership operators\n",
        "print((5 == 4 + 1), \" # The \\\"like\\\" comparison has a lower precedence than addition, and we need to calculate the addition first. The calculation above reads 5 == 5 = True \")\n",
        "\n",
        "# not\tLogical NOT\n",
        "print((not 5 == 5), \" # The logical NOT operator has a lower precedence than \\\"like\\\" comparison, and we need to calculate the comparison first. The calculation above reads: not True = False \")\n",
        "\n",
        "\n",
        "# and\tAND\n",
        "print((1 or 2 and 3), \"# The and operator has a higher precedence than or, and we need to calculate the and expression first. The calculation above reads: 1 or 3 = 1\")\n",
        "\n",
        "# or\tOR\n",
        "\n",
        "print((4 or 5 + 10 or 8), \" # The or operator has a lower precedence than addition, and we need to calculate the addition first. The calculation above reads: 4 or 15 or 8 = 4\")\n"
      ],
      "metadata": {
        "colab": {
          "base_uri": "https://localhost:8080/"
        },
        "id": "EhGzPIz6wC3O",
        "outputId": "7291caeb-3877-4132-dc5e-3dedbfd7e391"
      },
      "execution_count": null,
      "outputs": [
        {
          "output_type": "stream",
          "name": "stdout",
          "text": [
            "0  ##Parenthesis have the highest precedence, and need to be evaluated first. ##The calculation above reads 9 - 9 = 0\n",
            "73 ## Exponentiation has higher precedence than subtraction, and needs to be evaluated first. The calculation above reads 100 - 27 = 73\n",
            "96 Bitwise NOT has higher precedence than addition, and needs to be evaluated first. The calculation above reads 100 + -4 = 96\n",
            "115 # Multiplication has higher precedence than addition, and needs to be evaluated first. The calculation above reads 100 + 15 = 115 \n",
            "85 # Subtraction has a lower precedence than multiplication, and we need to calculate the multiplication first. The calculation above reads 100 - 15 = 85 \n",
            "2  Bitwise right shift has a lower precedence than subtraction, and we need to calculate the subtraction first. The calculation above reads 8 >> 2 = 2\n",
            "2  # Bitwise AND has a lower precedence than addition, and we need to calculate the addition first. The calculation above reads 6 & 3 = 2\n",
            "5 # Bitwise XOR has a lower precedence than addition, and we need to calculate the addition first. The calculation above reads 6 ^ 3 = 5\n",
            "7 # Bitwise OR has a lower precedence than addition, and we need to calculate the addition first. The calculation above reads 6 | 3 = 7\n",
            "True  # The \"like\" comparison has a lower precedence than addition, and we need to calculate the addition first. The calculation above reads 5 == 5 = True \n",
            "False  # The logical NOT operator has a lower precedence than \"like\" comparison, and we need to calculate the comparison first. The calculation above reads: not True = False \n",
            "1 # The and operator has a higher precedence than or, and we need to calculate the and expression first. The calculation above reads: 1 or 3 = 1\n",
            "4  # The or operator has a lower precedence than addition, and we need to calculate the addition first. The calculation above reads: 4 or 15 or 8 = 4\n"
          ]
        }
      ]
    }
  ]
}